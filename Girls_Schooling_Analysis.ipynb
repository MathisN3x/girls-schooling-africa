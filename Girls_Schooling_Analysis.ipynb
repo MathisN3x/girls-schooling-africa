{
 "cells": [
  {
   "cell_type": "markdown",
   "id": "6d72c48e",
   "metadata": {},
   "source": [
    "# Analyse et Prévision de la Scolarisation des Filles en Afrique Subsaharienne\n",
    "\n",
    "Ce notebook présente une **analyse des données de scolarisation des filles** en Afrique subsaharienne, issues de la **Banque mondiale**. L'objectif principal est de comprendre l'évolution du pourcentage de scolarisation des filles par pays au fil des années et de produire des **prévisions pour les années futures**.\n",
    "\n",
    "Les étapes réalisées dans ce notebook incluent :  \n",
    "1. **Chargement et nettoyage des données** : traitement des valeurs manquantes et transformation des données pour l'analyse.  \n",
    "2. **Analyse exploratoire** : visualisation des tendances historiques, identification des pays avec les meilleures et les moins bonnes performances.  \n",
    "3. **Prévisions avec Prophet** : modélisation des séries temporelles pour estimer l'évolution future du taux de scolarisation.  \n",
    "4. **Évaluation des modèles** : comparaison des prévisions avec des méthodes simples comme la moyenne mobile, calcul des métriques MAE et MAPE pour quantifier la précision des prédictions.  \n",
    "5. **Visualisations** : graphiques continus et informatifs pour mieux comprendre les tendances et les incertitudes des prévisions.\n",
    "\n",
    "Ce travail vise à fournir des insights utiles pour toute personne intéressée par l’évolution de la scolarisation des filles en Afrique subsaharienne.\n",
    "\n",
    "Vos retours et suggestions sont les bienvenus afin d'améliorer l'analyse et les prévisions."
   ]
  },
  {
   "cell_type": "code",
   "execution_count": null,
   "id": "0a7e28e7",
   "metadata": {},
   "outputs": [],
   "source": [
    "import numpy as np\n",
    "import pandas as pd\n",
    "import seaborn as sns\n",
    "import matplotlib.pyplot as plt\n",
    "from prophet import Prophet\n",
    "from sklearn.metrics import mean_absolute_error, mean_squared_error"
   ]
  },
  {
   "cell_type": "markdown",
   "id": "fc494e0f",
   "metadata": {},
   "source": [
    "# Lecture et nettoyage des données\n",
    "- Chargement du fichier Excel `subsaharan.xlsx`\n",
    "- Transposition pour mettre les années en lignes\n",
    "- Suppression de la colonne \"Country Name\" si présente\n",
    "- Remise en forme des colonnes en `ds` (date) et `y` (valeur)\n",
    "- Conversion de `ds` en datetime et nettoyage des valeurs manquantes\n"
   ]
  },
  {
   "cell_type": "code",
   "execution_count": null,
   "id": "e552255c",
   "metadata": {},
   "outputs": [],
   "source": [
    "data = pd.read_excel('subsaharan.xlsx').T\n",
    "data = data.drop(\"Country Name\", errors='ignore') \n",
    "data = data.reset_index()  \n",
    "data.columns = ['ds', 'y']\n",
    "\n",
    "data['ds'] = pd.to_datetime(data['ds'], format='%Y')\n",
    "data['y'] = data['y'].astype(float)\n",
    "data = data.dropna()\n",
    "data"
   ]
  },
  {
   "cell_type": "markdown",
   "id": "26752184",
   "metadata": {},
   "source": [
    "# Visualisation historique\n",
    "- Courbe de l'évolution du pourcentage en Afrique subsaharienne\n",
    "- Chaque point représente une année\n",
    "- Permet de détecter visuellement les tendances et anomalies\n"
   ]
  },
  {
   "cell_type": "code",
   "execution_count": null,
   "id": "01e6005c",
   "metadata": {},
   "outputs": [],
   "source": [
    "sns.set(style=\"whitegrid\")\n",
    "plt.figure(figsize=(15,6))\n",
    "sns.lineplot(data=data, x='ds', y='y', marker='o', color='blue', linewidth=2)\n",
    "plt.title(\"Pourcentage en Afrique subsaharienne (historique)\", fontsize=16)\n",
    "plt.xlabel(\"Année\")\n",
    "plt.ylabel(\"Pourcentage\")\n",
    "plt.xticks(rotation=45)\n",
    "plt.show()"
   ]
  },
  {
   "cell_type": "markdown",
   "id": "20681e21",
   "metadata": {},
   "source": [
    "# Séparation des données en train et test\n",
    "- Les années jusqu'en 2007 sont utilisées pour entraîner le modèle\n",
    "- Les années après 2007 sont réservées pour la validation\n",
    "- Permet d'évaluer la qualité des prédictions de Prophet\n"
   ]
  },
  {
   "cell_type": "code",
   "execution_count": null,
   "id": "d7e9713a",
   "metadata": {},
   "outputs": [],
   "source": [
    "train = data[data['ds'].dt.year <= 2007]\n",
    "test = data[data['ds'].dt.year > 2007]"
   ]
  },
  {
   "cell_type": "markdown",
   "id": "504bd16a",
   "metadata": {},
   "source": [
    "# Modélisation avec Prophet\n",
    "- Création du modèle Prophet avec un intervalle de confiance à 95%\n",
    "- Entraînement du modèle sur le jeu train\n",
    "- Préparation d'un DataFrame futur pour prédire sur test + 20 ans\n"
   ]
  },
  {
   "cell_type": "code",
   "execution_count": null,
   "id": "6e9a4b7e",
   "metadata": {},
   "outputs": [],
   "source": [
    "model = Prophet(interval_width=0.95)\n",
    "model.fit(train)\n",
    "\n",
    "future = model.make_future_dataframe(periods=len(test) + 20, freq='Y') \n",
    "forecast = model.predict(future)"
   ]
  },
  {
   "cell_type": "markdown",
   "id": "7ddd36ea",
   "metadata": {},
   "source": [
    "# Évaluation de la prédiction\n",
    "- Comparaison entre valeurs réelles (test) et prévisions (yhat)\n",
    "- Calcul des métriques :\n",
    "    - MAE : Mean Absolute Error\n",
    "    - MAPE : Mean Absolute Percentage Error\n",
    "- Permet de quantifier la précision du modèle\n"
   ]
  },
  {
   "cell_type": "code",
   "execution_count": null,
   "id": "6fee6262",
   "metadata": {},
   "outputs": [],
   "source": [
    "y_true = test['y'].values\n",
    "y_pred = forecast['yhat'].iloc[:len(train) + len(test)].tail(len(test)).values\n",
    "\n",
    "mae = mean_absolute_error(y_true, y_pred)\n",
    "mape = np.mean(np.abs((y_true - y_pred) / y_true)) * 100\n",
    "\n",
    "print(f\"MAE: {mae:.2f}, MAPE: {mape:.2f}%\")"
   ]
  },
  {
   "cell_type": "markdown",
   "id": "8fd279e0",
   "metadata": {},
   "source": [
    "# Visualisation des prédictions\n",
    "- Affichage combiné :\n",
    "    - Historique (train)\n",
    "    - Valeurs réelles (test)\n",
    "    - Prédictions sur test\n",
    "    - Prévisions sur 20 ans\n",
    "- Permet de comparer visuellement la qualité de la prédiction et la tendance future\n"
   ]
  },
  {
   "cell_type": "code",
   "execution_count": null,
   "id": "7c500ad9",
   "metadata": {},
   "outputs": [],
   "source": [
    "plt.figure(figsize=(15,6))\n",
    "plt.plot(train['ds'], train['y'], label='Historique', color='blue')\n",
    "plt.plot(test['ds'], y_true, label='Vrai Test', color='green')\n",
    "plt.plot(test['ds'], y_pred, label='Prédiction', color='red', linestyle='--')\n",
    "plt.plot(forecast['ds'].iloc[len(train)+len(test):], forecast['yhat'].iloc[len(train)+len(test):], \n",
    "         label='Prévision 20 ans', color='orange', linestyle='--')\n",
    "plt.legend()\n",
    "plt.xlabel(\"Année\")\n",
    "plt.ylabel(\"Pourcentage\")\n",
    "plt.title(\"Historique, test et prévisions Sub-Saharan\")\n",
    "plt.show()"
   ]
  }
 ],
 "metadata": {
  "kernelspec": {
   "display_name": ".venv",
   "language": "python",
   "name": "python3"
  },
  "language_info": {
   "codemirror_mode": {
    "name": "ipython",
    "version": 3
   },
   "file_extension": ".py",
   "mimetype": "text/x-python",
   "name": "python",
   "nbconvert_exporter": "python",
   "pygments_lexer": "ipython3",
   "version": "3.12.10"
  }
 },
 "nbformat": 4,
 "nbformat_minor": 5
}
